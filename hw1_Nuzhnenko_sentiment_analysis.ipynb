{
 "cells": [
  {
   "cell_type": "markdown",
   "id": "1280968f",
   "metadata": {},
   "source": [
    "# Домашняя работа №1 Нужненко Александры, БКЛ-202"
   ]
  },
  {
   "cell_type": "code",
   "execution_count": 1,
   "id": "08dfcaf8",
   "metadata": {},
   "outputs": [],
   "source": [
    "import requests\n",
    "from bs4 import BeautifulSoup"
   ]
  },
  {
   "cell_type": "code",
   "execution_count": 2,
   "id": "46c0cf66",
   "metadata": {},
   "outputs": [],
   "source": [
    "import pymystem3\n",
    "mystem=pymystem3.Mystem()"
   ]
  },
  {
   "cell_type": "code",
   "execution_count": 3,
   "id": "29d542c5",
   "metadata": {},
   "outputs": [],
   "source": [
    "import nltk\n",
    "from nltk.tokenize import word_tokenize"
   ]
  },
  {
   "cell_type": "code",
   "execution_count": 80,
   "id": "10e2ee8f",
   "metadata": {},
   "outputs": [],
   "source": [
    "from pymorphy2 import MorphAnalyzer\n",
    "morph = MorphAnalyzer()"
   ]
  },
  {
   "cell_type": "code",
   "execution_count": 197,
   "id": "489a34f1",
   "metadata": {},
   "outputs": [],
   "source": [
    "from nltk.corpus import stopwords\n",
    "\n",
    "# загружаем список стоп-слов на русском\n",
    "sw = stopwords.words('russian')"
   ]
  },
  {
   "cell_type": "code",
   "execution_count": 198,
   "id": "e02ec675",
   "metadata": {},
   "outputs": [],
   "source": [
    "from sklearn.metrics import accuracy_score"
   ]
  },
  {
   "cell_type": "code",
   "execution_count": 4,
   "id": "028d6310",
   "metadata": {},
   "outputs": [],
   "source": [
    "session = requests.session() # открытие сессии\n",
    "# ф-я принимает ссылку и возвращает html код страницы\n",
    "def get_page(url):\n",
    "        response = session.get(url)\n",
    "        return response.text"
   ]
  },
  {
   "cell_type": "code",
   "execution_count": 6,
   "id": "aeb02239",
   "metadata": {},
   "outputs": [],
   "source": [
    "# ф-я принимает html и возвращает меньшие блоки кода, содержащие положительный отзыв\n",
    "def get_block_good(html):\n",
    "    soup = BeautifulSoup(html, 'html.parser')\n",
    "    blocks = soup.find_all(\"div\", {'class': 'response good'})\n",
    "    return blocks"
   ]
  },
  {
   "cell_type": "code",
   "execution_count": 7,
   "id": "14c28bb7",
   "metadata": {},
   "outputs": [],
   "source": [
    "# ф-я принимает html и возвращает меньшие блоки кода, содержащие отрицательный отзыв\n",
    "def get_block_bad(html):\n",
    "    soup = BeautifulSoup(html, 'html.parser')\n",
    "    blocks = soup.find_all(\"div\", {'class': 'response bad'})\n",
    "    return blocks"
   ]
  },
  {
   "cell_type": "code",
   "execution_count": 33,
   "id": "46ce21ee",
   "metadata": {},
   "outputs": [],
   "source": [
    "# ф-я принимает список блоков html кода и возвращает список текстов отзывов\n",
    "def get_text(html_block):\n",
    "    texts_li = []\n",
    "    for block in html_block:\n",
    "        # здесь .split() и \" \".join нужны для того, чтобы неразрывные пробелы заменить обычными\n",
    "        texts_li.append(\" \".join(block.find_all(\"span\", {'class': '_reachbanner_'})[0].get_text().split()))\n",
    "    return texts_li"
   ]
  },
  {
   "cell_type": "code",
   "execution_count": 93,
   "id": "356e64f4",
   "metadata": {},
   "outputs": [],
   "source": [
    "# ф-я принимает строку текста и возвращает список слов в нижнем регистре, в начальной форме, без пунктуации\n",
    "def clear_data(text):\n",
    "    tokens = word_tokenize(text) # токенизация\n",
    "    clean_data = []\n",
    "    for token in tokens:\n",
    "        ana = morph.parse(token)\n",
    "        if ana[0].tag.POS != None: # избавляемся от пунктуации\n",
    "            clean_data.append(ana[0].normal_form) # добавляем леммы в результирующий список\n",
    "    return clean_data"
   ]
  },
  {
   "cell_type": "code",
   "execution_count": 109,
   "id": "f7bc19bd",
   "metadata": {},
   "outputs": [],
   "source": [
    "# ф-я принимает список всех слов и возвращает список слов, в котором нет стоп-слов \n",
    "def delete_stops(li_words):\n",
    "    without_stops = []\n",
    "    for word in li_words:\n",
    "        if word not in sw:\n",
    "            without_stops.append(word)\n",
    "    return without_stops"
   ]
  },
  {
   "cell_type": "code",
   "execution_count": 138,
   "id": "75107cd6",
   "metadata": {},
   "outputs": [],
   "source": [
    "# ф-я принимает список слов и возвращает отсортированный по значению словарь вида {слово : кол-во раз в списке}\n",
    "def sorted_dct_words_num(li_words):\n",
    "    dct = {}\n",
    "    dct_sorted = {}\n",
    "    for word in li_words:\n",
    "        if word not in dct:\n",
    "            dct[word] = 1\n",
    "        else:\n",
    "            dct[word] += 1\n",
    "            \n",
    "    sorted_keys = sorted(dct, key=dct.get)\n",
    "    for element in sorted_keys:\n",
    "        dct_sorted[element] = dct[element]\n",
    "        \n",
    "    return dct_sorted"
   ]
  },
  {
   "cell_type": "code",
   "execution_count": 163,
   "id": "e030bd25",
   "metadata": {},
   "outputs": [],
   "source": [
    "# ф-я принимает множество слов, словарь вида {слово : кол-во раз, которое встретилось это слово} \n",
    "# и число, которое отражает частоту слова в отзыве; \n",
    "# слова с этой и меньшей частотой удаляются, потому что считаются неинформативными\n",
    "# ф-я возвращает множество слов, которые (как предполагается) являются информативными\n",
    "def delete_uninformative_words(set_words, dct, number):\n",
    "    set_informative = set()\n",
    "    for word in list(set_words):\n",
    "        if dct[word] > number:\n",
    "            set_informative.add(word)\n",
    "    return set_informative     "
   ]
  },
  {
   "cell_type": "code",
   "execution_count": 179,
   "id": "45616ccb",
   "metadata": {},
   "outputs": [],
   "source": [
    "# ф-я принимает текст комментария; если комментарий положительный, возвращает True, если отрицательный - False \n",
    "def type_of_comment(text):\n",
    "    positive_count = 0\n",
    "    negative_count = 0\n",
    "    li_words = clear_data(text)\n",
    "    for word in li_words:\n",
    "        if word in set_informative_good:\n",
    "            positive_count += 1\n",
    "        if word in set_informative_bad:\n",
    "            negative_count += 1\n",
    "    if positive_count > negative_count:\n",
    "        return True\n",
    "    else:\n",
    "        return False"
   ]
  },
  {
   "cell_type": "code",
   "execution_count": 225,
   "id": "29d4527b",
   "metadata": {},
   "outputs": [],
   "source": [
    "def results(li_test, li_standard):\n",
    "    results = []\n",
    "    for text in test:\n",
    "        if type_of_comment(text):\n",
    "            results.append(\"pos\")\n",
    "        else:\n",
    "            results.append(\"neg\")\n",
    "    print(\"RESULTS:\")\n",
    "    print(\"Accuracy: %.4f\" % accuracy_score(results, li_standard))"
   ]
  },
  {
   "cell_type": "markdown",
   "id": "66487e79",
   "metadata": {},
   "source": [
    "Возьмем 4 страницы с рецензиями на фильмы в качестве данных. С первой страницы возьмем как положительные, так и отрицательные отзывы, со страниц 2-4 возьмем только отрицательные отзывы, чтобы количество позитивных и негативных рецензий было примерно равным."
   ]
  },
  {
   "cell_type": "code",
   "execution_count": 22,
   "id": "82738c4b",
   "metadata": {},
   "outputs": [],
   "source": [
    "page1 = get_page(\"https://www.kinopoisk.ru/reviews/type/comment/period/month/perpage/200/#list\")"
   ]
  },
  {
   "cell_type": "code",
   "execution_count": 20,
   "id": "db502901",
   "metadata": {},
   "outputs": [],
   "source": [
    "page2 = get_page(\"https://www.kinopoisk.ru/reviews/type/comment/period/month/page/2/#list\")"
   ]
  },
  {
   "cell_type": "code",
   "execution_count": 36,
   "id": "cc62b49c",
   "metadata": {},
   "outputs": [],
   "source": [
    "page3 = get_page(\"https://www.kinopoisk.ru/reviews/type/comment/period/month/page/3/#list\")"
   ]
  },
  {
   "cell_type": "code",
   "execution_count": 49,
   "id": "71231e76",
   "metadata": {},
   "outputs": [],
   "source": [
    "page4 = get_page(\"https://www.kinopoisk.ru/reviews/type/comment/period/month/page/4/#list\")"
   ]
  },
  {
   "cell_type": "markdown",
   "id": "592c5fb8",
   "metadata": {},
   "source": [
    "Выделяем блоки html-кода, в котором содержатся тексты рецензий."
   ]
  },
  {
   "cell_type": "code",
   "execution_count": 40,
   "id": "aeab92ba",
   "metadata": {},
   "outputs": [],
   "source": [
    "blocks_good = get_block_good(page1)"
   ]
  },
  {
   "cell_type": "code",
   "execution_count": 50,
   "id": "c41f2b04",
   "metadata": {},
   "outputs": [],
   "source": [
    "blocks_bad = get_block_bad(page1) + get_block_bad(page2) + get_block_bad(page3) + get_block_bad(page4)"
   ]
  },
  {
   "cell_type": "markdown",
   "id": "c342357b",
   "metadata": {},
   "source": [
    "Выделяем тексты комментариев."
   ]
  },
  {
   "cell_type": "code",
   "execution_count": 42,
   "id": "95fd4335",
   "metadata": {},
   "outputs": [],
   "source": [
    "texts_good = get_text(blocks_good) # все ПОЛОЖИТЕЛЬНЫЕ отзывы"
   ]
  },
  {
   "cell_type": "code",
   "execution_count": 51,
   "id": "647801e6",
   "metadata": {},
   "outputs": [],
   "source": [
    "texts_bad = get_text(blocks_bad) # все ОТРИЦАТЕЛЬНЫЕ отзывы"
   ]
  },
  {
   "cell_type": "code",
   "execution_count": 232,
   "id": "a9e34ff7",
   "metadata": {},
   "outputs": [
    {
     "name": "stdout",
     "output_type": "stream",
     "text": [
      "Всего собрали 128 положительных рецензий.\n"
     ]
    }
   ],
   "source": [
    "print(\"Всего собрали\", len(texts_good), \"положительных рецензий.\")"
   ]
  },
  {
   "cell_type": "code",
   "execution_count": 233,
   "id": "6df3d1f0",
   "metadata": {},
   "outputs": [
    {
     "name": "stdout",
     "output_type": "stream",
     "text": [
      "Всего собрали 137 отрицательных рецензий.\n"
     ]
    }
   ],
   "source": [
    "print(\"Всего собрали\", len(texts_bad), \"отрицательных рецензий.\")"
   ]
  },
  {
   "cell_type": "markdown",
   "id": "0243d2eb",
   "metadata": {},
   "source": [
    "25% из каждой группы оставим для проверки качества:"
   ]
  },
  {
   "cell_type": "code",
   "execution_count": 220,
   "id": "9e596caa",
   "metadata": {},
   "outputs": [],
   "source": [
    "test_good = texts_good[:int(len(texts_good)/100*25)]"
   ]
  },
  {
   "cell_type": "code",
   "execution_count": 221,
   "id": "323d4215",
   "metadata": {},
   "outputs": [],
   "source": [
    "test_bad = texts_bad[:int(len(texts_bad)/100*25)]"
   ]
  },
  {
   "cell_type": "code",
   "execution_count": 222,
   "id": "035b221f",
   "metadata": {},
   "outputs": [],
   "source": [
    "standard = len(test_good) * [\"pos\"] + len(test_bad) * [\"neg\"] # стандарт, к которому стремимся "
   ]
  },
  {
   "cell_type": "code",
   "execution_count": 227,
   "id": "d1a002ad",
   "metadata": {},
   "outputs": [],
   "source": [
    "test = test_good + test_bad # данные для проверки вместе"
   ]
  },
  {
   "cell_type": "markdown",
   "id": "1d93c08e",
   "metadata": {},
   "source": [
    "Остальные комментарии - материал для выделения положительно и отрицательно окрашенных слов:"
   ]
  },
  {
   "cell_type": "code",
   "execution_count": 70,
   "id": "940680de",
   "metadata": {},
   "outputs": [],
   "source": [
    "learn_good = texts_good[int(len(texts_good)/100*25):]"
   ]
  },
  {
   "cell_type": "code",
   "execution_count": 72,
   "id": "ebe7b6a8",
   "metadata": {},
   "outputs": [],
   "source": [
    "learn_bad = texts_bad[int(len(texts_bad)/100*25):]"
   ]
  },
  {
   "cell_type": "markdown",
   "id": "b89e98c8",
   "metadata": {},
   "source": [
    "Делаем из текстов списки слов в начальной форме, в нижнем регистре и без знаков препинания:"
   ]
  },
  {
   "cell_type": "code",
   "execution_count": 101,
   "id": "96e75ced",
   "metadata": {},
   "outputs": [],
   "source": [
    "li_words_good = []\n",
    "for text in learn_good:\n",
    "    li_words_good += clear_data(text)"
   ]
  },
  {
   "cell_type": "code",
   "execution_count": 103,
   "id": "0d892858",
   "metadata": {},
   "outputs": [],
   "source": [
    "li_words_bad = []\n",
    "for text in learn_bad:\n",
    "    li_words_bad += clear_data(text)"
   ]
  },
  {
   "cell_type": "markdown",
   "id": "c4bb0ef1",
   "metadata": {},
   "source": [
    "Удаляем стоп-слова:"
   ]
  },
  {
   "cell_type": "code",
   "execution_count": 112,
   "id": "334049b3",
   "metadata": {},
   "outputs": [],
   "source": [
    "li_words_good = delete_stops(li_words_good)"
   ]
  },
  {
   "cell_type": "code",
   "execution_count": 113,
   "id": "542b3095",
   "metadata": {},
   "outputs": [],
   "source": [
    "li_words_bad = delete_stops(li_words_bad)"
   ]
  },
  {
   "cell_type": "markdown",
   "id": "aa748edc",
   "metadata": {},
   "source": [
    "Создаем словари с подсчетом частотности слов:"
   ]
  },
  {
   "cell_type": "code",
   "execution_count": 140,
   "id": "f691a725",
   "metadata": {},
   "outputs": [],
   "source": [
    "dct_good_sorted = sorted_dct_words_num(li_words_good)"
   ]
  },
  {
   "cell_type": "code",
   "execution_count": 141,
   "id": "81fda051",
   "metadata": {},
   "outputs": [],
   "source": [
    "dct_bad_sorted = sorted_dct_words_num(li_words_bad)"
   ]
  },
  {
   "cell_type": "markdown",
   "id": "59a4276b",
   "metadata": {},
   "source": [
    "Создаем множества слов, которые есть в положительных и отрицательных рецензиях:"
   ]
  },
  {
   "cell_type": "code",
   "execution_count": 114,
   "id": "8df6c6de",
   "metadata": {},
   "outputs": [],
   "source": [
    "set_words_good = set(li_words_good)"
   ]
  },
  {
   "cell_type": "code",
   "execution_count": 115,
   "id": "39f57b30",
   "metadata": {},
   "outputs": [],
   "source": [
    "set_words_bad = set(li_words_bad)"
   ]
  },
  {
   "cell_type": "markdown",
   "id": "7b5387d9",
   "metadata": {},
   "source": [
    "Создаем множества слов, которые есть ТОЛЬКО в положительных и ТОЛЬКО отрицательных рецензиях:"
   ]
  },
  {
   "cell_type": "code",
   "execution_count": 119,
   "id": "067f2b59",
   "metadata": {},
   "outputs": [],
   "source": [
    "set_only_good = set_words_good - set_words_bad"
   ]
  },
  {
   "cell_type": "code",
   "execution_count": 121,
   "id": "5ba0ef0d",
   "metadata": {},
   "outputs": [],
   "source": [
    "set_only_bad = set_words_bad - set_words_good"
   ]
  },
  {
   "cell_type": "markdown",
   "id": "c70ba586",
   "metadata": {},
   "source": [
    "Посмотрим объем получившихся множеств:"
   ]
  },
  {
   "cell_type": "code",
   "execution_count": 124,
   "id": "a5c5924c",
   "metadata": {},
   "outputs": [
    {
     "data": {
      "text/plain": [
       "3420"
      ]
     },
     "execution_count": 124,
     "metadata": {},
     "output_type": "execute_result"
    }
   ],
   "source": [
    "len(set_only_good)"
   ]
  },
  {
   "cell_type": "code",
   "execution_count": 125,
   "id": "376a41d0",
   "metadata": {},
   "outputs": [
    {
     "data": {
      "text/plain": [
       "3765"
      ]
     },
     "execution_count": 125,
     "metadata": {},
     "output_type": "execute_result"
    }
   ],
   "source": [
    "len(set_only_bad)"
   ]
  },
  {
   "cell_type": "markdown",
   "id": "2cea8222",
   "metadata": {},
   "source": [
    "Уберем \"шум\":"
   ]
  },
  {
   "cell_type": "code",
   "execution_count": 246,
   "id": "609e37cf",
   "metadata": {},
   "outputs": [],
   "source": [
    "set_informative_good = delete_uninformative_words(set_only_good, dct_good_sorted, 5)"
   ]
  },
  {
   "cell_type": "code",
   "execution_count": 247,
   "id": "52571ed1",
   "metadata": {},
   "outputs": [],
   "source": [
    "set_informative_bad = delete_uninformative_words(set_only_bad, dct_bad_sorted, 5)"
   ]
  },
  {
   "cell_type": "markdown",
   "id": "d0299f98",
   "metadata": {},
   "source": [
    "Вычислим accuracy:"
   ]
  },
  {
   "cell_type": "code",
   "execution_count": 248,
   "id": "d25e0378",
   "metadata": {
    "scrolled": true
   },
   "outputs": [
    {
     "name": "stdout",
     "output_type": "stream",
     "text": [
      "RESULTS:\n",
      "Accuracy: 0.5303\n"
     ]
    }
   ],
   "source": [
    "results(test, standard)"
   ]
  },
  {
   "cell_type": "markdown",
   "id": "7d262229",
   "metadata": {},
   "source": [
    "При исключении слов \n",
    "с частотой 1 accuracy = 0.6212,\n",
    "с частотой 2 accuracy = 0.6515, \n",
    "с частотой 3 accuracy = 0.6667, \n",
    "с частотой 4 accuracy = 0.5606,\n",
    "с частотой 5 accuracy = 0.5303"
   ]
  },
  {
   "cell_type": "markdown",
   "id": "5c0e6806",
   "metadata": {},
   "source": [
    "### Итоги: \n",
    "Лучший показатель accuracy достигается, когда исключаем слова с частотностью 3. В целом показатель не очень хороший. Скорее всего это связано с тем, что в множестве set_informative_good (предполагаемо информативные слова) почти нет слов, которые действительно положительно окрашены, а в множестве set_informative_bad очень мало действительно отрицательно окрашенных слов. Требуются дополнительные модификации метода для улучшения результата."
   ]
  },
  {
   "cell_type": "markdown",
   "id": "a3ec66f5",
   "metadata": {},
   "source": [
    "### Как улучшить программу:\n",
    "\n",
    "1. Убрать из стоп-слов частицу \"не\", и при работе со списком слов, встречающихся в комментариях, склеивать \"не\" и следующее слово (например, \"единой формой\" станут \"не понравиться\", \"не зацепить\" и т.д.) Это позволит лучше отслеживать отношение пишущего, поскольку частица \"не\" меняет смысл на противоположный, и при ее исключении получается, что комментарии, где изначально было написано \"мне понравилось\" и где было написано \"мне НЕ понравилось\", содержат одинаковые элементы \"понравиться\", которые затем исключаются из множества, т.к. считается, что они не несут окраску, поскольку встретились и в положительном, и в отрицательном тексте.\n",
    "\n",
    "2. Увеличить объем материала, на основе которого пытаемся проводить анализ. Это увеличит объем словаря и добавит новые варианты эмоционально окрашенных слов.\n",
    "\n",
    "3. Ввести более сложное условие для определения того, положительный отзыв нам попался или отрицательный. Например, можно ввести формулу с разными весами для разных частей речи (e.g., если в тексте отзыва встретилось прилагательное из сета положительно окрашенных слов, то в счетчик добавляется три балла, если встретилось существительное, - то два балла, если глагол - лдин балл)."
   ]
  }
 ],
 "metadata": {
  "kernelspec": {
   "display_name": "Python 3",
   "language": "python",
   "name": "python3"
  },
  "language_info": {
   "codemirror_mode": {
    "name": "ipython",
    "version": 3
   },
   "file_extension": ".py",
   "mimetype": "text/x-python",
   "name": "python",
   "nbconvert_exporter": "python",
   "pygments_lexer": "ipython3",
   "version": "3.8.8"
  }
 },
 "nbformat": 4,
 "nbformat_minor": 5
}
